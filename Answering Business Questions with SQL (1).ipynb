{
 "cells": [
  {
   "cell_type": "markdown",
   "metadata": {},
   "source": [
    "# Project: Answering Business Questions with SQL"
   ]
  },
  {
   "cell_type": "markdown",
   "metadata": {},
   "source": [
    "In this project, I will be using SQL to answer Business Questions using the Chinook database. The chinook database represents the data of the Chinook store, a digital media company that sells records. Below is a copy of the database schema that I will be querying from. "
   ]
  },
  {
   "cell_type": "markdown",
   "metadata": {},
   "source": [
    "<img src=\"https://raw.githubusercontent.com/sunnyyan97/Analyzing-Hacker-News-Posts/main/Screen%20Shot%202021-04-01%20at%201.19.20%20PM.png\">"
   ]
  },
  {
   "cell_type": "markdown",
   "metadata": {},
   "source": [
    "I will pretend to be an employee of the store and answer hypothetical Business Questions that will inform Chinook's future strategy using Python's SQLite module."
   ]
  },
  {
   "cell_type": "markdown",
   "metadata": {},
   "source": [
    "### Reading and Connecting to the Database"
   ]
  },
  {
   "cell_type": "code",
   "execution_count": 1,
   "metadata": {
    "collapsed": false,
    "jupyter": {
     "outputs_hidden": false
    }
   },
   "outputs": [
    {
     "data": {
      "text/plain": [
       "'Connected: None@chinook.db'"
      ]
     },
     "execution_count": 1,
     "metadata": {},
     "output_type": "execute_result"
    }
   ],
   "source": [
    "%%capture\n",
    "%load_ext sql\n",
    "%sql sqlite:///chinook.db"
   ]
  },
  {
   "cell_type": "markdown",
   "metadata": {},
   "source": [
    "### Getting familiar with the Chinook Database\n",
    "\n",
    "I want to get more acquainted with the database before doing analysis, so I wrote a query returning all of the tables and views in the database."
   ]
  },
  {
   "cell_type": "code",
   "execution_count": 2,
   "metadata": {
    "collapsed": false,
    "jupyter": {
     "outputs_hidden": false
    }
   },
   "outputs": [
    {
     "name": "stdout",
     "output_type": "stream",
     "text": [
      "Done.\n"
     ]
    },
    {
     "data": {
      "text/html": [
       "<table>\n",
       "    <tr>\n",
       "        <th>name</th>\n",
       "        <th>type</th>\n",
       "    </tr>\n",
       "    <tr>\n",
       "        <td>album</td>\n",
       "        <td>table</td>\n",
       "    </tr>\n",
       "    <tr>\n",
       "        <td>artist</td>\n",
       "        <td>table</td>\n",
       "    </tr>\n",
       "    <tr>\n",
       "        <td>customer</td>\n",
       "        <td>table</td>\n",
       "    </tr>\n",
       "    <tr>\n",
       "        <td>employee</td>\n",
       "        <td>table</td>\n",
       "    </tr>\n",
       "    <tr>\n",
       "        <td>genre</td>\n",
       "        <td>table</td>\n",
       "    </tr>\n",
       "    <tr>\n",
       "        <td>invoice</td>\n",
       "        <td>table</td>\n",
       "    </tr>\n",
       "    <tr>\n",
       "        <td>invoice_line</td>\n",
       "        <td>table</td>\n",
       "    </tr>\n",
       "    <tr>\n",
       "        <td>media_type</td>\n",
       "        <td>table</td>\n",
       "    </tr>\n",
       "    <tr>\n",
       "        <td>playlist</td>\n",
       "        <td>table</td>\n",
       "    </tr>\n",
       "    <tr>\n",
       "        <td>playlist_track</td>\n",
       "        <td>table</td>\n",
       "    </tr>\n",
       "    <tr>\n",
       "        <td>track</td>\n",
       "        <td>table</td>\n",
       "    </tr>\n",
       "</table>"
      ],
      "text/plain": [
       "[('album', 'table'),\n",
       " ('artist', 'table'),\n",
       " ('customer', 'table'),\n",
       " ('employee', 'table'),\n",
       " ('genre', 'table'),\n",
       " ('invoice', 'table'),\n",
       " ('invoice_line', 'table'),\n",
       " ('media_type', 'table'),\n",
       " ('playlist', 'table'),\n",
       " ('playlist_track', 'table'),\n",
       " ('track', 'table')]"
      ]
     },
     "execution_count": 2,
     "metadata": {},
     "output_type": "execute_result"
    }
   ],
   "source": [
    "%%sql\n",
    "SELECT\n",
    "    name,\n",
    "    type\n",
    "FROM sqlite_master\n",
    "WHERE type IN (\"table\", \"view\");"
   ]
  },
  {
   "cell_type": "markdown",
   "metadata": {},
   "source": [
    "Wanted to do a test to make sure the database is working properly so I wrote a query that returns all of the albums by Queen that are in the database."
   ]
  },
  {
   "cell_type": "code",
   "execution_count": 3,
   "metadata": {
    "collapsed": false,
    "jupyter": {
     "outputs_hidden": false
    }
   },
   "outputs": [
    {
     "name": "stdout",
     "output_type": "stream",
     "text": [
      "Done.\n"
     ]
    },
    {
     "data": {
      "text/html": [
       "<table>\n",
       "    <tr>\n",
       "        <th>artist_id</th>\n",
       "        <th>name</th>\n",
       "        <th>album_id</th>\n",
       "        <th>title</th>\n",
       "        <th>artist_id_1</th>\n",
       "    </tr>\n",
       "    <tr>\n",
       "        <td>51</td>\n",
       "        <td>Queen</td>\n",
       "        <td>36</td>\n",
       "        <td>Greatest Hits II</td>\n",
       "        <td>51</td>\n",
       "    </tr>\n",
       "    <tr>\n",
       "        <td>51</td>\n",
       "        <td>Queen</td>\n",
       "        <td>185</td>\n",
       "        <td>Greatest Hits I</td>\n",
       "        <td>51</td>\n",
       "    </tr>\n",
       "    <tr>\n",
       "        <td>51</td>\n",
       "        <td>Queen</td>\n",
       "        <td>186</td>\n",
       "        <td>News Of The World</td>\n",
       "        <td>51</td>\n",
       "    </tr>\n",
       "</table>"
      ],
      "text/plain": [
       "[(51, 'Queen', 36, 'Greatest Hits II', 51),\n",
       " (51, 'Queen', 185, 'Greatest Hits I', 51),\n",
       " (51, 'Queen', 186, 'News Of The World', 51)]"
      ]
     },
     "execution_count": 3,
     "metadata": {},
     "output_type": "execute_result"
    }
   ],
   "source": [
    "%%sql\n",
    "SELECT * from artist ar\n",
    "INNER JOIN album al on al.artist_id = ar.artist_id\n",
    "WHERE name = 'Queen'\n",
    "ORDER BY 1;"
   ]
  },
  {
   "cell_type": "markdown",
   "metadata": {},
   "source": [
    "### Analyzing the Different Genres"
   ]
  },
  {
   "cell_type": "markdown",
   "metadata": {},
   "source": [
    "After analyzing Queen, the first prompt I will respond to is the following:\n",
    "\n",
    "The Chinook Record store has just signed a deal with a new record label, and I have been tasked with selecting the first three albumns that will be added to the store, from a list of four. The list I currently have appears as follows:"
   ]
  },
  {
   "cell_type": "markdown",
   "metadata": {},
   "source": [
    "<img src=\"Albums.png\">"
   ]
  },
  {
   "cell_type": "markdown",
   "metadata": {},
   "source": [
    "To answer the question, I wanted to see which genres are represented the most in the store currently and how well they sold.\n",
    "\n",
    "This query returns all of the different genres that are being sold in the Digital Media store currently, how many tracks of the genre have been sold and how much of a percentage the genre's sales play in the Chinook Company's total sales. "
   ]
  },
  {
   "cell_type": "code",
   "execution_count": 4,
   "metadata": {
    "collapsed": false,
    "jupyter": {
     "outputs_hidden": false
    }
   },
   "outputs": [
    {
     "name": "stdout",
     "output_type": "stream",
     "text": [
      "Done.\n"
     ]
    },
    {
     "data": {
      "text/html": [
       "<table>\n",
       "    <tr>\n",
       "        <th>genre</th>\n",
       "        <th>tracks_sold</th>\n",
       "        <th>percentage_sold</th>\n",
       "    </tr>\n",
       "    <tr>\n",
       "        <td>Rock</td>\n",
       "        <td>561</td>\n",
       "        <td>0.5337773549000951</td>\n",
       "    </tr>\n",
       "    <tr>\n",
       "        <td>Alternative &amp; Punk</td>\n",
       "        <td>130</td>\n",
       "        <td>0.12369172216936251</td>\n",
       "    </tr>\n",
       "    <tr>\n",
       "        <td>Metal</td>\n",
       "        <td>124</td>\n",
       "        <td>0.11798287345385347</td>\n",
       "    </tr>\n",
       "    <tr>\n",
       "        <td>R&amp;B/Soul</td>\n",
       "        <td>53</td>\n",
       "        <td>0.05042816365366318</td>\n",
       "    </tr>\n",
       "    <tr>\n",
       "        <td>Blues</td>\n",
       "        <td>36</td>\n",
       "        <td>0.03425309229305423</td>\n",
       "    </tr>\n",
       "    <tr>\n",
       "        <td>Alternative</td>\n",
       "        <td>35</td>\n",
       "        <td>0.03330161750713606</td>\n",
       "    </tr>\n",
       "    <tr>\n",
       "        <td>Latin</td>\n",
       "        <td>22</td>\n",
       "        <td>0.02093244529019981</td>\n",
       "    </tr>\n",
       "    <tr>\n",
       "        <td>Pop</td>\n",
       "        <td>22</td>\n",
       "        <td>0.02093244529019981</td>\n",
       "    </tr>\n",
       "    <tr>\n",
       "        <td>Hip Hop/Rap</td>\n",
       "        <td>20</td>\n",
       "        <td>0.019029495718363463</td>\n",
       "    </tr>\n",
       "    <tr>\n",
       "        <td>Jazz</td>\n",
       "        <td>14</td>\n",
       "        <td>0.013320647002854425</td>\n",
       "    </tr>\n",
       "</table>"
      ],
      "text/plain": [
       "[('Rock', 561, 0.5337773549000951),\n",
       " ('Alternative & Punk', 130, 0.12369172216936251),\n",
       " ('Metal', 124, 0.11798287345385347),\n",
       " ('R&B/Soul', 53, 0.05042816365366318),\n",
       " ('Blues', 36, 0.03425309229305423),\n",
       " ('Alternative', 35, 0.03330161750713606),\n",
       " ('Latin', 22, 0.02093244529019981),\n",
       " ('Pop', 22, 0.02093244529019981),\n",
       " ('Hip Hop/Rap', 20, 0.019029495718363463),\n",
       " ('Jazz', 14, 0.013320647002854425)]"
      ]
     },
     "execution_count": 4,
     "metadata": {},
     "output_type": "execute_result"
    }
   ],
   "source": [
    "%%sql\n",
    "\n",
    "WITH usa_tracks_sold AS\n",
    "    (\n",
    "     SELECT il.* from invoice_line il\n",
    "     INNER JOIN invoice i on il.invoice_id = i.invoice_id\n",
    "     INNER JOIN customer c on i.customer_id = c.customer_id\n",
    "     WHERE country = 'USA'\n",
    "    )\n",
    "SELECT\n",
    "    g.name genre,\n",
    "    count(uts.invoice_line_id) tracks_sold,\n",
    "    cast(count(uts.invoice_line_id) AS FLOAT) / (SELECT COUNT(*) from usa_tracks_sold) percentage_sold\n",
    "FROM usa_tracks_sold uts\n",
    "INNER JOIN track t on t.track_id = uts.track_id\n",
    "INNER JOIN genre g on g.genre_id = t.genre_id\n",
    "GROUP BY 1\n",
    "ORDER BY 2 DESC\n",
    "LIMIT 10;"
   ]
  },
  {
   "cell_type": "markdown",
   "metadata": {},
   "source": [
    "The table shows that all genres of Rock Music, including Punk and Metal, perform the best in our digitial media catalogue. Given these results it would make sense to further invest in Rock Music albums to sell. As for the four albums that we've been given, I would choose the Pop, Punk and Blues albums. Pop and Hip-Hop are both not very popular in the Chinook store, combining for less than 4% of total sales, but Pop has a slight lead over hip-hop."
   ]
  },
  {
   "cell_type": "markdown",
   "metadata": {},
   "source": [
    "### Analyzing Employee Sales Performance\n",
    "\n",
    "The next question I've been asked to answer is, is any sales support agent performing far better or worse than the others?\n",
    "\n",
    "For background, every customer gets assigned to a support sales rep when they make their first purchase. I will analyze the purchases of customers belonging to each employee to answer this question. \n",
    "\n",
    "The below query pulls each sales rep's total sales along with their hire date and name from the Chinook Database."
   ]
  },
  {
   "cell_type": "code",
   "execution_count": 5,
   "metadata": {
    "collapsed": false,
    "jupyter": {
     "outputs_hidden": false
    }
   },
   "outputs": [
    {
     "name": "stdout",
     "output_type": "stream",
     "text": [
      "Done.\n"
     ]
    },
    {
     "data": {
      "text/html": [
       "<table>\n",
       "    <tr>\n",
       "        <th>employee</th>\n",
       "        <th>hire_date</th>\n",
       "        <th>total_sales</th>\n",
       "    </tr>\n",
       "    <tr>\n",
       "        <td>Jane Peacock</td>\n",
       "        <td>2017-04-01 00:00:00</td>\n",
       "        <td>1731.5099999999998</td>\n",
       "    </tr>\n",
       "    <tr>\n",
       "        <td>Margaret Park</td>\n",
       "        <td>2017-05-03 00:00:00</td>\n",
       "        <td>1584.0000000000002</td>\n",
       "    </tr>\n",
       "    <tr>\n",
       "        <td>Steve Johnson</td>\n",
       "        <td>2017-10-17 00:00:00</td>\n",
       "        <td>1393.92</td>\n",
       "    </tr>\n",
       "</table>"
      ],
      "text/plain": [
       "[('Jane Peacock', '2017-04-01 00:00:00', 1731.5099999999998),\n",
       " ('Margaret Park', '2017-05-03 00:00:00', 1584.0000000000002),\n",
       " ('Steve Johnson', '2017-10-17 00:00:00', 1393.92)]"
      ]
     },
     "execution_count": 5,
     "metadata": {},
     "output_type": "execute_result"
    }
   ],
   "source": [
    "%%sql\n",
    "\n",
    "WITH customer_support_rep_sales AS\n",
    "    (\n",
    "     SELECT\n",
    "        i.customer_id,\n",
    "        c.support_rep_id,\n",
    "        SUM(i.total) total\n",
    "     FROM invoice i\n",
    "     INNER JOIN customer c ON c.customer_id = i.customer_id\n",
    "     GROUP BY 1, 2\n",
    "    )\n",
    "\n",
    "SELECT\n",
    "    e.first_name || \" \" || e.last_name employee,\n",
    "    e.hire_date,\n",
    "    SUM(csrs.total) total_sales\n",
    "    FROM employee e\n",
    "    INNER JOIN customer_support_rep_sales csrs ON e.employee_id = csrs.support_rep_id\n",
    "    GROUP BY 1;"
   ]
  },
  {
   "cell_type": "markdown",
   "metadata": {},
   "source": [
    "It appears that each sales rep has performed similarly during their tenure. Steve Johnson has the lowest amount of total sales but he was hired well after Jane and Margaret."
   ]
  },
  {
   "cell_type": "markdown",
   "metadata": {},
   "source": [
    "### Analyzing Sales by Country"
   ]
  },
  {
   "cell_type": "markdown",
   "metadata": {},
   "source": [
    "My next task is to analyze the sales data for customers from each country that buys from Chinook. \n",
    "\n",
    "For analysis I wanted to include the following four categories in my query. \n",
    "\n",
    "-number of customers   \n",
    "-total value of sales  \n",
    "-average order size by dollar amount  \n",
    "-average customer lifetime value  \n",
    "\n",
    "I will calculate these four categories to get a holistic view of how the store's sales are performing in each country. The below query calculates the data for the categories. "
   ]
  },
  {
   "cell_type": "code",
   "execution_count": 7,
   "metadata": {
    "collapsed": false,
    "jupyter": {
     "outputs_hidden": false
    }
   },
   "outputs": [
    {
     "name": "stdout",
     "output_type": "stream",
     "text": [
      "Done.\n"
     ]
    },
    {
     "data": {
      "text/html": [
       "<table>\n",
       "    <tr>\n",
       "        <th>country</th>\n",
       "        <th>customers</th>\n",
       "        <th>total_sales</th>\n",
       "        <th>average_order</th>\n",
       "        <th>customer_lifetime_value</th>\n",
       "    </tr>\n",
       "    <tr>\n",
       "        <td>USA</td>\n",
       "        <td>13</td>\n",
       "        <td>1040.490000000008</td>\n",
       "        <td>7.942671755725252</td>\n",
       "        <td>80.03769230769292</td>\n",
       "    </tr>\n",
       "    <tr>\n",
       "        <td>Canada</td>\n",
       "        <td>8</td>\n",
       "        <td>535.5900000000034</td>\n",
       "        <td>7.047236842105309</td>\n",
       "        <td>66.94875000000043</td>\n",
       "    </tr>\n",
       "    <tr>\n",
       "        <td>Brazil</td>\n",
       "        <td>5</td>\n",
       "        <td>427.68000000000245</td>\n",
       "        <td>7.011147540983647</td>\n",
       "        <td>85.53600000000048</td>\n",
       "    </tr>\n",
       "    <tr>\n",
       "        <td>France</td>\n",
       "        <td>5</td>\n",
       "        <td>389.0700000000021</td>\n",
       "        <td>7.781400000000042</td>\n",
       "        <td>77.81400000000042</td>\n",
       "    </tr>\n",
       "    <tr>\n",
       "        <td>Germany</td>\n",
       "        <td>4</td>\n",
       "        <td>334.6200000000016</td>\n",
       "        <td>8.161463414634186</td>\n",
       "        <td>83.6550000000004</td>\n",
       "    </tr>\n",
       "    <tr>\n",
       "        <td>Czech Republic</td>\n",
       "        <td>2</td>\n",
       "        <td>273.24000000000103</td>\n",
       "        <td>9.108000000000034</td>\n",
       "        <td>136.62000000000052</td>\n",
       "    </tr>\n",
       "    <tr>\n",
       "        <td>United Kingdom</td>\n",
       "        <td>3</td>\n",
       "        <td>245.52000000000078</td>\n",
       "        <td>8.768571428571457</td>\n",
       "        <td>81.84000000000026</td>\n",
       "    </tr>\n",
       "    <tr>\n",
       "        <td>Portugal</td>\n",
       "        <td>2</td>\n",
       "        <td>185.13000000000022</td>\n",
       "        <td>6.3837931034482835</td>\n",
       "        <td>92.56500000000011</td>\n",
       "    </tr>\n",
       "    <tr>\n",
       "        <td>India</td>\n",
       "        <td>2</td>\n",
       "        <td>183.1500000000002</td>\n",
       "        <td>8.72142857142858</td>\n",
       "        <td>91.5750000000001</td>\n",
       "    </tr>\n",
       "    <tr>\n",
       "        <td>Other</td>\n",
       "        <td>15</td>\n",
       "        <td>1094.9400000000085</td>\n",
       "        <td>7.448571428571486</td>\n",
       "        <td>72.99600000000056</td>\n",
       "    </tr>\n",
       "</table>"
      ],
      "text/plain": [
       "[('USA', 13, 1040.490000000008, 7.942671755725252, 80.03769230769292),\n",
       " ('Canada', 8, 535.5900000000034, 7.047236842105309, 66.94875000000043),\n",
       " ('Brazil', 5, 427.68000000000245, 7.011147540983647, 85.53600000000048),\n",
       " ('France', 5, 389.0700000000021, 7.781400000000042, 77.81400000000042),\n",
       " ('Germany', 4, 334.6200000000016, 8.161463414634186, 83.6550000000004),\n",
       " ('Czech Republic', 2, 273.24000000000103, 9.108000000000034, 136.62000000000052),\n",
       " ('United Kingdom', 3, 245.52000000000078, 8.768571428571457, 81.84000000000026),\n",
       " ('Portugal', 2, 185.13000000000022, 6.3837931034482835, 92.56500000000011),\n",
       " ('India', 2, 183.1500000000002, 8.72142857142858, 91.5750000000001),\n",
       " ('Other', 15, 1094.9400000000085, 7.448571428571486, 72.99600000000056)]"
      ]
     },
     "execution_count": 7,
     "metadata": {},
     "output_type": "execute_result"
    }
   ],
   "source": [
    "%%sql\n",
    "WITH country_or_other AS\n",
    "    (\n",
    "     SELECT\n",
    "        CASE\n",
    "            WHEN (\n",
    "                  SELECT count(*)\n",
    "                  FROM customer\n",
    "                  where country = c.country\n",
    "                ) = 1 THEN \"Other\"\n",
    "            ELSE c.country\n",
    "        END AS country,\n",
    "        c.customer_id,\n",
    "        il.*\n",
    "     FROM invoice_line il\n",
    "     INNER JOIN invoice i on i.invoice_id = il.invoice_id\n",
    "     INNER JOIN customer c on c.customer_id = i.customer_id\n",
    "    )\n",
    "    \n",
    "SELECT\n",
    "    country,\n",
    "    customers,\n",
    "    total_sales,\n",
    "    average_order,\n",
    "    customer_lifetime_value\n",
    "FROM\n",
    "    (\n",
    "     SELECT\n",
    "        country,\n",
    "        count(distinct customer_id) customers,\n",
    "        SUM(unit_price) total_sales,\n",
    "        SUM(unit_price) / count(distinct customer_id) customer_lifetime_value,\n",
    "        SUM(unit_price) / count(distinct invoice_id) average_order,\n",
    "        CASE\n",
    "            WHEN country = \"Other\" THEN 1\n",
    "            ELSE 0\n",
    "        END AS sort\n",
    "    FROM country_or_other\n",
    "    GROUP BY country\n",
    "    ORDER BY sort ASC, total_sales DESC);        "
   ]
  },
  {
   "cell_type": "markdown",
   "metadata": {},
   "source": [
    "As expected, the majority of sales come from the US and Canada. However, our digital media company has a strong worldwide presence, with the value of total sales from other countries being higher than the value of total sales in America. Perhaps this is a market that could be further explored."
   ]
  },
  {
   "cell_type": "markdown",
   "metadata": {},
   "source": [
    "### Albums vs Individual Tracks\n",
    "\n",
    "Currently with the way our digital media store is set up, customers can buy records as albums or as individual tracks. Management wants to save money by simply offering albums and not individual tracks. This below query will investigate the percentage of purchases that are albums vs. individual tracks."
   ]
  },
  {
   "cell_type": "code",
   "execution_count": 11,
   "metadata": {
    "collapsed": false,
    "jupyter": {
     "outputs_hidden": false
    }
   },
   "outputs": [
    {
     "name": "stdout",
     "output_type": "stream",
     "text": [
      "Done.\n"
     ]
    },
    {
     "data": {
      "text/html": [
       "<table>\n",
       "    <tr>\n",
       "        <th>album_purchase</th>\n",
       "        <th>number_of_invoices</th>\n",
       "        <th>percent</th>\n",
       "    </tr>\n",
       "    <tr>\n",
       "        <td>no</td>\n",
       "        <td>500</td>\n",
       "        <td>0.8143322475570033</td>\n",
       "    </tr>\n",
       "    <tr>\n",
       "        <td>yes</td>\n",
       "        <td>114</td>\n",
       "        <td>0.18566775244299674</td>\n",
       "    </tr>\n",
       "</table>"
      ],
      "text/plain": [
       "[('no', 500, 0.8143322475570033), ('yes', 114, 0.18566775244299674)]"
      ]
     },
     "execution_count": 11,
     "metadata": {},
     "output_type": "execute_result"
    }
   ],
   "source": [
    "%%sql\n",
    "WITH invoice_first_track AS\n",
    "    (\n",
    "     SELECT\n",
    "        il.invoice_id invoice_id,\n",
    "        MIN(il.track_id) first_track_id\n",
    "     FROM invoice_line il\n",
    "     GROUP BY 1\n",
    "    )\n",
    "\n",
    "SELECT\n",
    "    album_purchase,\n",
    "    COUNT(invoice_id) number_of_invoices,\n",
    "    CAST(count(invoice_id) AS FLOAT) / (SELECT count(*) FROM invoice) percent\n",
    "    \n",
    "FROM\n",
    "    (\n",
    "    SELECT\n",
    "        ifs.*,\n",
    "        CASE\n",
    "            WHEN\n",
    "                (\n",
    "                 SELECT t.track_id FROM track t\n",
    "                 WHERE t.album_id = (\n",
    "                                     SELECT t2.album_id FROM track t2\n",
    "                                     WHERE t2.track_id = ifs.first_track_id\n",
    "                                     )\n",
    "                EXCEPT\n",
    "            \n",
    "                SELECT il2.track_id FROM invoice_line il2\n",
    "                WHERE il2.invoice_id = ifs.invoice_id\n",
    "                ) IS NULL\n",
    "            AND\n",
    "                (\n",
    "                 SELECT il2.track_id FROM invoice_line il2\n",
    "                 WHERE il2.invoice_id = ifs.invoice_id\n",
    "                \n",
    "                 EXCEPT\n",
    "    \n",
    "                 SELECT t.track_id FROM track t\n",
    "                 WHERE t.album_id = (SELECT t2.album_id FROM track t2\n",
    "                                     WHERE t2.track_id = ifs.first_track_id\n",
    "                                    )\n",
    "                ) IS NULL\n",
    "            THEN \"yes\"\n",
    "            ELSE \"no\"\n",
    "        END AS \"album_purchase\"\n",
    "    FROM invoice_first_track ifs\n",
    "    )\n",
    "GROUP BY album_purchase"
   ]
  },
  {
   "cell_type": "markdown",
   "metadata": {},
   "source": [
    "This table clearly shows that customers preferring buying and listening individual tracks over albums."
   ]
  }
 ],
 "metadata": {
  "kernelspec": {
   "display_name": "Python 3",
   "language": "python",
   "name": "python3"
  },
  "language_info": {
   "codemirror_mode": {
    "name": "ipython",
    "version": 3
   },
   "file_extension": ".py",
   "mimetype": "text/x-python",
   "name": "python",
   "nbconvert_exporter": "python",
   "pygments_lexer": "ipython3",
   "version": "3.8.3"
  }
 },
 "nbformat": 4,
 "nbformat_minor": 4
}
