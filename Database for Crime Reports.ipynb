{
 "cells": [
  {
   "cell_type": "markdown",
   "metadata": {},
   "source": [
    "# Project: Building a Database for crime reports"
   ]
  },
  {
   "cell_type": "markdown",
   "metadata": {},
   "source": [
    "In this project I will build a database for storing data of crimes committed in Boston with Postgres. The dataset is available in the file boston.csv\n",
    "\n",
    "Here are a description of some of the columns\n",
    "\n",
    "**incident_number**- represents the identifier of the crime  \n",
    "**offense_code**- numeric identifier code for the committed crime  \n",
    "**description**- a description of the crime  \n",
    "**date**- date crime occurred  \n",
    "**day_of_the_week**- Day of the week crime occurred  \n",
    "**lat**- latitude coordination where crime occurred  \n",
    "**long**- longitude coordination where crime occurred  \n",
    "\n",
    "Goal of this project is to create a database that is named *crimes_db* with a table- *boston_crimes* - that stores the data from the boston.csv file. The *boston_crimes* table will be contained inside of a schema that is named crimes. \n",
    "\n",
    "I will also create two groups that can access the database; one readonly group and one readwrite group. The readonly group represents Data Analysts who would use this database to Select files to do their analysis. The readwrite group represents Data Scientists who would Select and Edit Files but not able to delete tables. Finally, I will create one and add a user for each of the groups.\n",
    "\n"
   ]
  },
  {
   "cell_type": "markdown",
   "metadata": {},
   "source": [
    "## Creating the crime_db DataBase"
   ]
  },
  {
   "cell_type": "markdown",
   "metadata": {},
   "source": [
    "I will start by creating a database for storing the crime data as well as a schema that contains the tables. When connecting to the Postgres server a database name needs to be specified. Because the crime_db database does not exist yet I create it by connecting to a database named \"dq\" using the username \"dq\" (short for DataQuest, because this is a Dataquest project)"
   ]
  },
  {
   "cell_type": "code",
   "execution_count": 1,
   "metadata": {
    "scrolled": false
   },
   "outputs": [],
   "source": [
    "#Importing PostgreSQL Database Adapter psycopg2\n",
    "import psycopg2\n",
    "#Connecting to dq database\n",
    "conn1 = psycopg2.connect(dbname=\"dq\", user=\"dq\")\n",
    "cur1 = conn1.cursor()\n",
    "#Setting conn.autocommit to true to ensure database gets created\n",
    "conn1.autocommit = True\n",
    "#Creating new database crime_db\n",
    "cur1.execute(\"CREATE DATABASE crime_db;\")\n",
    "conn1.autocommit = False\n",
    "#Disconnect from \"dq\" database, going to use the newly created database\n",
    "conn1.close()"
   ]
  },
  {
   "cell_type": "markdown",
   "metadata": {},
   "source": [
    "Once I have created the crime_db database from the dq database, I can disconnect from the dq database and exclusively operate from the newly created crime_db database connection.  \n",
    "\n",
    "Within this newly created database I'm going to create a schema called crimes to store the data."
   ]
  },
  {
   "cell_type": "code",
   "execution_count": 2,
   "metadata": {},
   "outputs": [
    {
     "data": {
      "text/plain": [
       "<function connection.commit>"
      ]
     },
     "execution_count": 2,
     "metadata": {},
     "output_type": "execute_result"
    }
   ],
   "source": [
    "#Connecting to crime_db database\n",
    "conn2 = psycopg2.connect(dbname=\"crime_db\", user=\"dq\")\n",
    "conn2.autocommit = False\n",
    "cur2 = conn2.cursor()\n",
    "#Creating schema named crimes\n",
    "cur2.execute(\"CREATE SCHEMA crimes;\")\n",
    "#Committing Changes\n",
    "conn2.commit"
   ]
  },
  {
   "cell_type": "markdown",
   "metadata": {},
   "source": [
    "## Reading in the DataSet\n",
    "\n",
    "Now that I have the database and schema I am ready to start creating tables with data. However, before doing so, I need to gather information about the crime dataset that I'm using to ensure the right datatypes are used in the data.\n",
    "\n",
    "I'll start by reading in all of the column names and printing the first row"
   ]
  },
  {
   "cell_type": "code",
   "execution_count": 3,
   "metadata": {},
   "outputs": [
    {
     "name": "stdout",
     "output_type": "stream",
     "text": [
      "['1', '619', 'LARCENY ALL OTHERS', '2018-09-02', 'Sunday', '42.35779134', '-71.13937053']\n"
     ]
    }
   ],
   "source": [
    "import csv\n",
    "with open('boston.csv') as file:\n",
    "    reader = csv.reader(file)\n",
    "    col_headers = next(reader)\n",
    "    first_row = next(reader)\n",
    "print(first_row)"
   ]
  },
  {
   "cell_type": "markdown",
   "metadata": {},
   "source": [
    "## Creating an Auxiliary Function\n",
    "\n",
    "To identify the proper datatypes for the columns of my crime data table, I'll first create a function *get_col_set()* (with inputs of a CSV file and a column index) that computes a Python set and returns all of the distinct values of the column.  \n",
    "\n",
    "This function will be useful for checking whether an enumerated datatype is a good choice to represent a column and for computing the max-length of a text column to get the appropriate size for VARCHAR columns."
   ]
  },
  {
   "cell_type": "code",
   "execution_count": 4,
   "metadata": {},
   "outputs": [],
   "source": [
    "#Creating get_col_set() function\n",
    "def get_col_set(csv_filename, col_index):\n",
    "    value_set = set() \n",
    "    with open(csv_filename, 'r') as f:\n",
    "        next(f)\n",
    "        reader = csv.reader(f)\n",
    "        for row in reader:\n",
    "            column = row[col_index]\n",
    "            if column not in value_set:\n",
    "                value_set.add(column)\n",
    "    return value_set"
   ]
  },
  {
   "cell_type": "markdown",
   "metadata": {},
   "source": [
    "Now I will use the function to compute the number of different values each column contains."
   ]
  },
  {
   "cell_type": "code",
   "execution_count": 5,
   "metadata": {},
   "outputs": [
    {
     "name": "stdout",
     "output_type": "stream",
     "text": [
      "incident_number\t298329\n",
      "offense_code\t219\n",
      "description\t239\n",
      "date\t1177\n",
      "day_of_the_week\t7\n",
      "lat\t18177\n",
      "long\t18177\n"
     ]
    }
   ],
   "source": [
    "for i in range(len(col_headers)):\n",
    "    values = get_col_set('boston.csv', i)\n",
    "    print(col_headers[i], len(values), sep='\\t')"
   ]
  },
  {
   "cell_type": "markdown",
   "metadata": {},
   "source": [
    "Now that I have the number of distinct values for each column I can tell that the description and day_of_the_week columns are textual because of the low number of distinct values."
   ]
  },
  {
   "cell_type": "markdown",
   "metadata": {},
   "source": [
    "## Finding Max Length of Description column"
   ]
  },
  {
   "cell_type": "code",
   "execution_count": 6,
   "metadata": {},
   "outputs": [
    {
     "name": "stdout",
     "output_type": "stream",
     "text": [
      "['incident_number', 'offense_code', 'description', 'date', 'day_of_the_week', 'lat', 'long']\n"
     ]
    }
   ],
   "source": [
    "#Finding which index the description column is\n",
    "print(col_headers)"
   ]
  },
  {
   "cell_type": "code",
   "execution_count": 7,
   "metadata": {},
   "outputs": [
    {
     "name": "stdout",
     "output_type": "stream",
     "text": [
      "58\n"
     ]
    }
   ],
   "source": [
    "descriptions = get_col_set('boston.csv', 2)\n",
    "max_len = 0\n",
    "for description in descriptions:\n",
    "    max_len = max(max_len, len(description))\n",
    "print(max_len)"
   ]
  },
  {
   "cell_type": "markdown",
   "metadata": {},
   "source": [
    "The maximum length for a value in the description column is 58."
   ]
  },
  {
   "cell_type": "markdown",
   "metadata": {},
   "source": [
    "## Creating the Table\n",
    "\n",
    "Now I am finally ready to create the table. The table will be named boston_crimes and will be stored within the crimes schema of the crime_db database."
   ]
  },
  {
   "cell_type": "code",
   "execution_count": 8,
   "metadata": {},
   "outputs": [
    {
     "name": "stdout",
     "output_type": "stream",
     "text": [
      "['incident_number', 'offense_code', 'description', 'date', 'day_of_the_week', 'lat', 'long']\n"
     ]
    }
   ],
   "source": [
    "#Identifying column names by re-printing the headers\n",
    "print(col_headers)"
   ]
  },
  {
   "cell_type": "code",
   "execution_count": 9,
   "metadata": {},
   "outputs": [
    {
     "name": "stdout",
     "output_type": "stream",
     "text": [
      "['1', '619', 'LARCENY ALL OTHERS', '2018-09-02', 'Sunday', '42.35779134', '-71.13937053']\n"
     ]
    }
   ],
   "source": [
    "#Remembering the datatypes of each column\n",
    "print(first_row)"
   ]
  },
  {
   "cell_type": "markdown",
   "metadata": {},
   "source": [
    "The datatypes of each column are:  \n",
    "\n",
    "integer  \n",
    "integer   \n",
    "string  \n",
    "date  \n",
    "string  \n",
    "decimal  \n",
    "decimal\n",
    "\n",
    "Because the day_of_week column has a small range of values it is suitable to have an enumerated datatype so I will create it before making the table."
   ]
  },
  {
   "cell_type": "markdown",
   "metadata": {},
   "source": [
    "From the last exercise I know that the maximum length for a value in the description column is 58. So I will set the column type as varchar(100) to be safe."
   ]
  },
  {
   "cell_type": "code",
   "execution_count": 10,
   "metadata": {},
   "outputs": [],
   "source": [
    "#Create enumerated datatype for day_of_week column\n",
    "cur2.execute(\"CREATE TYPE weekday AS ENUM ('Monday', 'Tuesday', 'Wednesday', 'Thursday', 'Friday', 'Saturday', 'Sunday');\")\n",
    "conn2.commit()\n",
    "#Creating the table\n",
    "cur2.execute(\"\"\"\n",
    "    CREATE TABLE crimes.boston_crimes (\n",
    "        incident_number INTEGER PRIMARY KEY,\n",
    "        offense_code INTEGER,\n",
    "        description varchar(100),\n",
    "        date DATE,\n",
    "        day_of_the_week weekday,\n",
    "        lat decimal,\n",
    "        long decimal\n",
    "        );\n",
    "\"\"\")\n",
    "\n",
    "conn2.commit()"
   ]
  },
  {
   "cell_type": "markdown",
   "metadata": {},
   "source": [
    "## Loading Data into the Table"
   ]
  },
  {
   "cell_type": "markdown",
   "metadata": {},
   "source": [
    "Now that I have created the table it is now time to load the boston crime data into it. I will be using the cursor.copy_expert( ) method."
   ]
  },
  {
   "cell_type": "code",
   "execution_count": 11,
   "metadata": {},
   "outputs": [],
   "source": [
    "cur2.execute(\"rollback;\")\n",
    "conn2.commit()"
   ]
  },
  {
   "cell_type": "code",
   "execution_count": 12,
   "metadata": {},
   "outputs": [],
   "source": [
    "cur2.execute(\"rollback;\")\n",
    "#Opening the csv with the crime data\n",
    "with open('boston.csv') as f:\n",
    "#Loading in the data from the csv into our table\n",
    "    cur2.copy_expert(\"COPY crimes.boston_crimes FROM STDIN WITH CSV HEADER;\", f)\n",
    "    conn2.commit()"
   ]
  },
  {
   "cell_type": "markdown",
   "metadata": {},
   "source": [
    "## Revoking Public Privileges\n",
    "\n",
    "Now that I have created the table it is time to handle the users of the table. As stated previously, the goal of this project is to create two groups: readonly and readwrite. The workflow for managing user principles is to first revoke all privileges and then grant the neccesary ones for each group.  \n",
    "\n",
    "I will begin by revoking all user priviliges. The first step is to make sure there are no inherited privileges from the public group on the public schema."
   ]
  },
  {
   "cell_type": "code",
   "execution_count": 13,
   "metadata": {},
   "outputs": [],
   "source": [
    "cur2.execute('REVOKE ALL ON SCHEMA public FROM public;')\n",
    "cur2.execute('REVOKE ALL ON DATABASE crime_db FROM public;')\n",
    "conn2.commit()"
   ]
  },
  {
   "cell_type": "markdown",
   "metadata": {},
   "source": [
    "## Creating User Groups"
   ]
  },
  {
   "cell_type": "markdown",
   "metadata": {},
   "source": [
    "After I have succesfully ensured that users will not inadvertently inheirt privileges from the public group it is time to create the two user groups.  \n",
    "\n",
    "As previously mentioned, the two user groups will be readonly and readwrite. The readonly group only has privileges to perform SELECT queries, whereas the readwrite group can perform SELECT, INSERT, DELETE and UPDATE queries. "
   ]
  },
  {
   "cell_type": "code",
   "execution_count": 14,
   "metadata": {},
   "outputs": [],
   "source": [
    "#Create readonly group\n",
    "cur2.execute('CREATE GROUP readonly NOLOGIN;')\n",
    "#Create readwrite group\n",
    "cur2.execute('CREATE GROUP readwrite NOLOGIN;')\n",
    "#Granting connection priviliges to the user groups\n",
    "cur2.execute('GRANT CONNECT ON DATABASE crime_db TO readonly;')\n",
    "cur2.execute('GRANT CONNECT ON DATABASE crime_db TO readwrite;')\n",
    "#Granting usage of the crimes schema to the groups\n",
    "cur2.execute('GRANT USAGE ON SCHEMA crimes TO readonly;')\n",
    "cur2.execute('GRANT USAGE ON SCHEMA crimes TO readwrite;')\n",
    "#Granting SELECT privileges to readonly group\n",
    "cur2.execute('GRANT SELECT ON ALL TABLES IN SCHEMA crimes TO readonly;')\n",
    "cur2.execute('GRANT SELECT, INSERT, DELETE, UPDATE ON ALL TABLES IN SCHEMA crimes TO readwrite;')"
   ]
  },
  {
   "cell_type": "markdown",
   "metadata": {},
   "source": [
    "## Creating Users\n",
    "\n",
    "I am almost done with setting up the crime database. I have already created the schema, the table and the user groups. The only thing left to do is to create and add users to the groups. \n",
    "\n",
    "I will add two users, one will be a data analyst in the readonly group and one will be a data scientist in the readwrite group."
   ]
  },
  {
   "cell_type": "code",
   "execution_count": 15,
   "metadata": {},
   "outputs": [],
   "source": [
    "#Create data_analyst user\n",
    "cur2.execute(\"CREATE USER data_analyst WITH PASSWORD 'secret1';\")\n",
    "#Assign data analyst to readonly group\n",
    "cur2.execute(\"GRANT readonly TO data_analyst;\")\n",
    "#Create data_scientist user\n",
    "cur2.execute(\"CREATE USER data_scientist WITH PASSWORD 'secret2';\")\n",
    "#Assign data scientist to readwrite group\n",
    "cur2.execute(\"GRANT readwrite TO data_scientist;\")\n",
    "conn2.commit()"
   ]
  },
  {
   "cell_type": "markdown",
   "metadata": {},
   "source": [
    "## Testing the Database\n",
    "\n",
    "The Postgres database has been succesfully set up! Now it is time to test it to ensure everything is configured as intended and that the users have the right permissions.  \n",
    "\n",
    "I will use the pg_roles tables to inspect privileges related to the database and the information_schema.table_privileges table to inspect table privileges."
   ]
  },
  {
   "cell_type": "code",
   "execution_count": 18,
   "metadata": {},
   "outputs": [
    {
     "name": "stdout",
     "output_type": "stream",
     "text": [
      "('readonly', False, False, False, False)\n",
      "('readwrite', False, False, False, False)\n",
      "('data_analyst', False, False, False, True)\n",
      "('data_scientist', False, False, False, True)\n",
      "\n",
      "('readonly', 'SELECT')\n",
      "('readwrite', 'INSERT')\n",
      "('readwrite', 'SELECT')\n",
      "('readwrite', 'UPDATE')\n",
      "('readwrite', 'DELETE')\n"
     ]
    }
   ],
   "source": [
    "#Checking users and groups\n",
    "cur2.execute(\"\"\"\n",
    "    SELECT rolname, rolsuper, rolcreaterole, rolcreatedb, rolcanlogin FROM pg_roles\n",
    "    WHERE rolname IN ('readonly', 'readwrite', 'data_analyst', 'data_scientist');\n",
    "\"\"\")\n",
    "for user in cur2:\n",
    "    print(user)\n",
    "print()\n",
    "#Checking table privileges\n",
    "cur2.execute(\"\"\"\n",
    "    SELECT grantee, privilege_type\n",
    "    FROM information_schema.table_privileges\n",
    "    WHERE grantee IN ('readonly', 'readwrite');\n",
    "\"\"\")\n",
    "for user in cur2:\n",
    "    print(user)\n",
    "conn2.close()"
   ]
  },
  {
   "cell_type": "markdown",
   "metadata": {},
   "source": [
    "The database is now complete! The tests show that the new users cannot create their own tables in the database and that the two groups have the privileges that they are supposed to have."
   ]
  },
  {
   "cell_type": "markdown",
   "metadata": {},
   "source": [
    "## Sampling the Data\n",
    "\n",
    "Here I pull the first 10 results from the boston_crimes table of the crimes schema to sample the data and ensure that it was loaded correctly into the database"
   ]
  },
  {
   "cell_type": "code",
   "execution_count": 25,
   "metadata": {},
   "outputs": [
    {
     "data": {
      "text/plain": [
       "[(1,\n",
       "  619,\n",
       "  'LARCENY ALL OTHERS',\n",
       "  datetime.date(2018, 9, 2),\n",
       "  'Sunday',\n",
       "  Decimal('42.35779134'),\n",
       "  Decimal('-71.13937053')),\n",
       " (2,\n",
       "  1402,\n",
       "  'VANDALISM',\n",
       "  datetime.date(2018, 8, 21),\n",
       "  'Tuesday',\n",
       "  Decimal('42.30682138'),\n",
       "  Decimal('-71.06030035')),\n",
       " (3,\n",
       "  3410,\n",
       "  'TOWED MOTOR VEHICLE',\n",
       "  datetime.date(2018, 9, 3),\n",
       "  'Monday',\n",
       "  Decimal('42.34658879'),\n",
       "  Decimal('-71.07242943')),\n",
       " (4,\n",
       "  3114,\n",
       "  'INVESTIGATE PROPERTY',\n",
       "  datetime.date(2018, 9, 3),\n",
       "  'Monday',\n",
       "  Decimal('42.33418175'),\n",
       "  Decimal('-71.07866441')),\n",
       " (5,\n",
       "  3114,\n",
       "  'INVESTIGATE PROPERTY',\n",
       "  datetime.date(2018, 9, 3),\n",
       "  'Monday',\n",
       "  Decimal('42.27536542'),\n",
       "  Decimal('-71.09036101')),\n",
       " (6,\n",
       "  3820,\n",
       "  'M/V ACCIDENT INVOLVING PEDESTRIAN - INJURY',\n",
       "  datetime.date(2018, 9, 3),\n",
       "  'Monday',\n",
       "  Decimal('42.29019621'),\n",
       "  Decimal('-71.07159012')),\n",
       " (7,\n",
       "  724,\n",
       "  'AUTO THEFT',\n",
       "  datetime.date(2018, 9, 3),\n",
       "  'Monday',\n",
       "  Decimal('42.30607218'),\n",
       "  Decimal('-71.0827326')),\n",
       " (8,\n",
       "  3301,\n",
       "  'VERBAL DISPUTE',\n",
       "  datetime.date(2018, 9, 3),\n",
       "  'Monday',\n",
       "  Decimal('42.32701648'),\n",
       "  Decimal('-71.10555088')),\n",
       " (9,\n",
       "  301,\n",
       "  'ROBBERY - STREET',\n",
       "  datetime.date(2018, 9, 3),\n",
       "  'Monday',\n",
       "  Decimal('42.33152148'),\n",
       "  Decimal('-71.07085307')),\n",
       " (10,\n",
       "  3301,\n",
       "  'VERBAL DISPUTE',\n",
       "  datetime.date(2018, 9, 3),\n",
       "  'Monday',\n",
       "  Decimal('42.29514664'),\n",
       "  Decimal('-71.05860832'))]"
      ]
     },
     "execution_count": 25,
     "metadata": {},
     "output_type": "execute_result"
    }
   ],
   "source": [
    "conn = psycopg2.connect(dbname='crime_db', user='dq')\n",
    "cur = conn.cursor()\n",
    "cur.execute('Select * From crimes.boston_crimes')\n",
    "cur.fetchmany(10)"
   ]
  }
 ],
 "metadata": {
  "kernelspec": {
   "display_name": "Python 3",
   "language": "python",
   "name": "python3"
  },
  "language_info": {
   "codemirror_mode": {
    "name": "ipython",
    "version": 3
   },
   "file_extension": ".py",
   "mimetype": "text/x-python",
   "name": "python",
   "nbconvert_exporter": "python",
   "pygments_lexer": "ipython3",
   "version": "3.8.2"
  }
 },
 "nbformat": 4,
 "nbformat_minor": 2
}
